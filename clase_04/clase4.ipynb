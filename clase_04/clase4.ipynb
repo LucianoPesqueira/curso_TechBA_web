{
 "cells": [
  {
   "cell_type": "markdown",
   "id": "863b8cec",
   "metadata": {},
   "source": [
    "# CSS\n",
    "* css: cascading style sheets"
   ]
  },
  {
   "cell_type": "markdown",
   "id": "3796aa6b",
   "metadata": {},
   "source": [
    "css en linea:\n",
    "<h2 style=\"color: blue;\">Formulario de Consulta</h2>"
   ]
  },
  {
   "cell_type": "markdown",
   "id": "a2db7873",
   "metadata": {},
   "source": [
    "css interno:\n",
    "<head>\n",
    "   <style>\n",
    "       h2 {\n",
    "        color: blue;\n",
    "        background-color: yellow;\n",
    "       }\n",
    "   </style>\n",
    "</head>"
   ]
  },
  {
   "cell_type": "markdown",
   "id": "5c5e676a",
   "metadata": {},
   "source": [
    "css externo(recomendado):\n",
    "<head>\n",
    "  <link rel=\"stylesheet\"href=\"css/styles.css\">\n",
    "</head>\n",
    "    en style.css:\n",
    "    <style>\n",
    "       h2 {\n",
    "        color: blue;\n",
    "        background-color: yellow;\n",
    "       }\n",
    "   </style>"
   ]
  }
 ],
 "metadata": {
  "language_info": {
   "name": "python"
  }
 },
 "nbformat": 4,
 "nbformat_minor": 5
}
