{
 "cells": [
  {
   "cell_type": "markdown",
   "id": "d78b1333",
   "metadata": {},
   "source": [
    "html boilerplate\n",
    "plantilla prederterminada\n",
    "\n",
    "html:5 + enter O ! + enter ->\n",
    "<!DOCTYPE html>\n",
    "<html lang=\"en\">\n",
    "<head>\n",
    "    <meta charset=\"UTF-8\">\n",
    "    <meta name=\"viewport\" content=\"width=device-width, initial-scale=1.0\">\n",
    "    <title>Document</title>\n",
    "</head>\n",
    "<body>\n",
    "    \n",
    "</body>\n",
    "</html>\n"
   ]
  },
  {
   "cell_type": "markdown",
   "id": "3b96fe66",
   "metadata": {},
   "source": [
    "<header> </header> --> encabezado\n",
    "<nav> </nav> --> menu de navegacion\n",
    "<main> </main> --> seccion principal\n",
    "<footer> </footer> --> pie de pagina\n",
    "\n",
    "<div> </div> --> etiquetas para separar elementos\n",
    "<h1-h6> </h1-h6> --> son encabezados para los titulos y subtitulos\n",
    "<p> </p> --> parrafos\n"
   ]
  },
  {
   "cell_type": "markdown",
   "id": "5e5194fc",
   "metadata": {},
   "source": [
    "# Tipos de Listas en HTML\n",
    "\n",
    "lista ordenada\n",
    "<ol>\n",
    "\n",
    "lista no ordenada\n",
    "<ul>\n",
    "\n",
    "lista de definicion\n",
    "<dt>\n",
    "\n",
    "ej:\n",
    "<ol> -->ordered list\n",
    "    <li>1</li> -->list item\n",
    "    <li>2</li>\n",
    "    <li>3</li>\n",
    "</ol>"
   ]
  },
  {
   "cell_type": "markdown",
   "id": "2b0ab031",
   "metadata": {},
   "source": [
    "# Enlaces en HTML\n",
    "\n",
    "<a href=\"https://www.ejemplo.com\">Visita nuestro sitio web</a> --> sitios web\n",
    "\n",
    "<a href=\"mailto:info@ejemplo.com\">Enviar correo</a> --> correos electronicos\n",
    "\n",
    "<a href=\"documento.pdf\" download>Descargar documento</a> --> archivos"
   ]
  },
  {
   "cell_type": "markdown",
   "id": "e38309ef",
   "metadata": {},
   "source": [
    "# rutas\n",
    "\n",
    "* absolutas\n",
    "    - Especifica la ubicación completa de un archivo desde la raíz del servidor.\n",
    "    - siempre empieza con \"http://\" o \"https://\"\n",
    "\n",
    "* relativas\n",
    "    - se basa en la ubicacion del archivo html actual, es adaptable a cambios de carpeta"
   ]
  },
  {
   "cell_type": "markdown",
   "id": "61e1c941",
   "metadata": {},
   "source": [
    "# Bloque y Linea\n",
    "\n",
    "* Elementos en bloque:\n",
    "    - siempre empiezan en una nueva linea de codigo y ocupan todo el ancho disponible.\n",
    "    - ejemplos comunes:\n",
    "        * <div>\n",
    "        * <h1> - <h6>\n",
    "        * <p>\n",
    "        * <ul> y <ol>\n",
    "\n",
    "* Elementos en linea:\n",
    "    - se utilizan para definir parte de un texto o elementos pequeños.\n",
    "    - ejemplos comunes:\n",
    "        * <span>\n",
    "        * <a>\n",
    "        * <strong>\n",
    "        * <em>"
   ]
  },
  {
   "cell_type": "markdown",
   "id": "11d601be",
   "metadata": {},
   "source": [
    "# Multimedia con HTML\n",
    "\n",
    "* insercion de imagenes:\n",
    "    - <img>\n",
    "    - fundamental proporcionar texto alternativo con el atributo alt\n",
    "    - <img src=\"imagen.jpg\" alt=\"descripcion de la imange\" width=\"600\" height=\"400\">\n",
    "\n",
    "* insercion de audio:\n",
    "    - <audio>\n",
    "    - atributos comunes:\n",
    "        * controls: muestra los controles de reproduccion\n",
    "        * autoplay: Reproduce automaticamente el audio al cargar la pagina\n",
    "        * loop: repeticion continua\n",
    "        - ejemplo:\n",
    "            <audio controls>\n",
    "                <source src=\"audio.mp3\" type=\"audio/mpeg\">\n",
    "                Tu navegador no soporta la reproduccion de audio\n",
    "            </audio>\n",
    "\n",
    "* insercion de video:\n",
    "    - <video>\n",
    "    - atributos comunes:\n",
    "        * controls\n",
    "        * poster: muestra una imagen antes de reproducir el video\n",
    "        * autoplay\n",
    "    - ejemplo:\n",
    "        <video controls poster=\"preview.jpg\" width=\"600\" height=\"400\">\n",
    "            <source src=\"video.mp4\" type=\"video/mp4\">\n",
    "            Tu navegador no soporta la reproduccion de video\n",
    "        </video>\n",
    "\n",
    "* uso de Iframes\n",
    "    - <iframe>\n",
    "    - permite insertar otro documentos html, como un mapade google o un video de youtube\n",
    "    - ejmplo:\n",
    "        <iframe src=\"https://www.youtube.com/embed/dQ32sa32fa3X3W2H\" width=\"600\" height=\"400\" frameborder=\"0\" allowfullscreen></iframe>"
   ]
  },
  {
   "cell_type": "markdown",
   "id": "24cc7387",
   "metadata": {},
   "source": [
    "# Accesibilidad en multimedia\n",
    "\n",
    "* Atributos alt y subtitulos en video\n",
    "    - <track> : añadir subtitulos en videos\n",
    "    - alt : describe el contenido de la imagen\n",
    "    ejemplos:\n",
    "        <img src=\"imagen.jpg\" alt=\"descripcion de la imgen\">\n",
    "        <video controls>\n",
    "            <source src=\"video.mp4\" type=\"video/mp4\">\n",
    "            <track src=\"subtitulos.vtt\" kind=\"subtitles\" srclang=\"es\" label=\"Español\">\n",
    "        </video>"
   ]
  },
  {
   "cell_type": "markdown",
   "id": "4315a6e9",
   "metadata": {},
   "source": [
    "# Tablas en HTML\n",
    "\n",
    "* <table>\n",
    "    * <tr> --> las filas\n",
    "    * <td> --> las celdas\n",
    "    * <th> --> los encabezados\n",
    "* ejemplo:\n",
    "    <table>\n",
    "        <tr>\n",
    "            <th>Nombre</th>\n",
    "            <th>Edad</th>\n",
    "            <th>Ciudad</th>\n",
    "        </tr>\n",
    "        <tr>\n",
    "            <td>Ana</td>\n",
    "            <td>20</td>\n",
    "            <td>Entre Rios</td>\n",
    "        </tr>\n",
    "    </table>\n",
    "\n",
    "* Buenas practicas:\n",
    "    * scope en <th> para mejorar la accesibilidad\n",
    "    * summary para descipcion\n",
    "    "
   ]
  }
 ],
 "metadata": {
  "language_info": {
   "name": "python"
  }
 },
 "nbformat": 4,
 "nbformat_minor": 5
}
